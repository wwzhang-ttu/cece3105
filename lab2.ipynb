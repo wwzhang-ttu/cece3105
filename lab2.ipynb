{
 "cells": [
  {
   "cell_type": "markdown",
   "id": "f6bc6bbc-b863-46a6-9a0c-3fc38036341f",
   "metadata": {},
   "source": [
    "# Lab 2: Hydrostatic Forces and Buoyancy\n",
    "\n",
    "In this lab, we will study the forces acting on submerged surfaces and the principle of buoyancy.\n",
    "\n",
    "## 2.1 Hydrostatic Pressure\n",
    "\n",
    "The **hydrostatic pressure** at a depth $h$ in a fluid is given by:\n",
    "$$\n",
    "P = \\rho g h\n",
    "$$\n",
    "\n",
    "where:\n",
    "- $P$ is the hydrostatic pressure (Pa),\n",
    "- $\\rho$ is the fluid density (kg/m³),\n",
    "- $g$ is the acceleration due to gravity (9.81 m/s²),\n",
    "- $h$ is the depth below the surface of the fluid (m).\n",
    "\n",
    "## 2.2 Hydrostatic Force on a Submerged Surface\n",
    "\n",
    "The hydrostatic force $F$ on a submerged vertical surface is the integral of pressure over the area $A$:\n",
    "\n",
    "$$\n",
    "F = \\int_A P \\, dA = \\int_A \\rho g h \\, dA\n",
    "$$\n",
    "\n",
    "For a vertical plane surface, the force is:\n",
    "$$\n",
    "F = \\rho g A h_{\\text{avg}}\n",
    "$$\n",
    "\n",
    "where:\n",
    "- $h_{\\text{avg}}$ is the average depth of the surface.\n",
    "\n",
    "## 2.3 Buoyancy\n",
    "\n",
    "The **buoyant force** is the upward force exerted by a fluid on a submerged or floating object. It is equal to the weight of the displaced fluid:\n",
    "\n",
    "$$\n",
    "F_b = \\rho_{\\text{fluid}} \\cdot g \\cdot V_{\\text{displaced}}\n",
    "$$\n",
    "\n",
    "where:\n",
    "- $F_b$ is the buoyant force (N),\n",
    "- $\\rho_{\\text{fluid}}$ is the density of the fluid (kg/m³),\n",
    "- $g$ is the acceleration due to gravity (9.81 m/s²),\n",
    "- $V_{\\text{displaced}}$ is the volume of the displaced fluid (m³).\n",
    "\n",
    "The object will float if the buoyant force equals the object's weight.\n"
   ]
  },
  {
   "cell_type": "code",
   "execution_count": null,
   "id": "dc6fa0d1-5bde-489c-8dd7-ba578384db9c",
   "metadata": {},
   "outputs": [],
   "source": []
  }
 ],
 "metadata": {
  "kernelspec": {
   "display_name": "Python 3 (ipykernel)",
   "language": "python",
   "name": "python3"
  },
  "language_info": {
   "codemirror_mode": {
    "name": "ipython",
    "version": 3
   },
   "file_extension": ".py",
   "mimetype": "text/x-python",
   "name": "python",
   "nbconvert_exporter": "python",
   "pygments_lexer": "ipython3",
   "version": "3.13.0"
  },
  "widgets": {
   "application/vnd.jupyter.widget-state+json": {
    "state": {},
    "version_major": 2,
    "version_minor": 0
   }
  }
 },
 "nbformat": 4,
 "nbformat_minor": 5
}
