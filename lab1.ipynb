{
 "cells": [
  {
   "cell_type": "markdown",
   "id": "f577681d-33e1-4f38-aa51-2de595adf4e7",
   "metadata": {},
   "source": [
    "# Lab 1: Fluid Properties\n",
    "\n",
    "## Introduction\n",
    "In this lab, we will explore the basic fluid properties that are essential for understanding fluid behavior in different contexts. The primary properties we'll cover are:\n",
    "\n",
    "- Mass Density\n",
    "- Specific Weight\n",
    "- Specific Gravity\n",
    "- Viscosity\n",
    "\n",
    "These properties govern the motion and interaction of fluids in various engineering applications.\n",
    "\n",
    "## 1. Mass Density (ρ)\n",
    "Mass density (\\(\\rho\\)) is defined as the mass per unit volume of a substance.\n",
    "\n",
    "$$\n",
    "\\rho = \\frac{m}{V}\n",
    "$$\n",
    "\n",
    "Where:\n",
    "- $m$ is the mass (kg)\n",
    "- $v$ is the volume $(m^3)$\n",
    "\n",
    "### Units:\n",
    "- SI unit: $\\text{kg/m}^3$\n",
    "\n",
    "## 2. Specific Weight\n",
    "Specific weight ($\\gamma$) is defined as the weight per unit volume of a substance.\n",
    "\n",
    "$$\n",
    "\\gamma = \\rho \\cdot g\n",
    "$$\n",
    "\n",
    "Where:\n",
    "- $g$ is the acceleration due to gravity ($9.81 \\, \\text{m/s}^2$)\n",
    "\n",
    "### Units:\n",
    "- SI unit: $\\text{N/m}^3$\n",
    "\n",
    "## 3. Specific Gravity (SG)\n",
    "Specific gravity (SG) is the ratio of the density of a substance to the density of water at 4°C.\n",
    "\n",
    "$$\n",
    "SG = \\frac{\\rho_{\\text{substance}}}{\\rho_{\\text{water}}}\n",
    "$$\n",
    "\n",
    "Where:\n",
    "- $\\rho_{\\text{substance}}$ is the density of the substance (kg/m³)\n",
    "- $\\rho_{\\text{water}}$ is the density of water (approximately $1000 \\, \\text{kg/m}^3$ at 4°C)\n",
    "\n",
    "## 4. Viscosity (μ)\n",
    "Viscosity (\\(\\mu\\)) is the measure of a fluid’s resistance to shear or flow. It quantifies the internal friction of a fluid.\n",
    "\n",
    "The dynamic viscosity (\\(\\mu\\)) is measured in Pascal-seconds (Pa·s) and is related to the fluid's resistance to flow.\n",
    "$$\n",
    "\\tau = \\mu \\cdot \\left( \\frac{du}{dy} \\right)\n",
    "$$\n",
    "\n",
    "Where:\n",
    "- $\\tau$ is the shear stress\n",
    "- $\\frac{du}{dy}$ is the velocity gradient\n",
    "\n",
    "### Units:\n",
    "- SI unit: Pa·s (Pascal-seconds)\n",
    "\n",
    "## Conclusion\n",
    "In this lab, we have explored key fluid properties that are crucial for understanding fluid mechanics. These properties affect the behavior of fluids in pipes, vessels, and open channels. Understanding them is essential for solving engineering problems in fluid dynamics.\n"
   ]
  },
  {
   "cell_type": "code",
   "execution_count": null,
   "id": "b39c7f90-39d9-46b1-b75d-d155dcc3a422",
   "metadata": {},
   "outputs": [],
   "source": []
  }
 ],
 "metadata": {
  "kernelspec": {
   "display_name": "Python 3 (ipykernel)",
   "language": "python",
   "name": "python3"
  },
  "language_info": {
   "codemirror_mode": {
    "name": "ipython",
    "version": 3
   },
   "file_extension": ".py",
   "mimetype": "text/x-python",
   "name": "python",
   "nbconvert_exporter": "python",
   "pygments_lexer": "ipython3",
   "version": "3.13.0"
  },
  "widgets": {
   "application/vnd.jupyter.widget-state+json": {
    "state": {},
    "version_major": 2,
    "version_minor": 0
   }
  }
 },
 "nbformat": 4,
 "nbformat_minor": 5
}
