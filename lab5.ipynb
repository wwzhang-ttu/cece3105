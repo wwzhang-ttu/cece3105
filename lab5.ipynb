{
 "cells": [
  {
   "cell_type": "markdown",
   "id": "ecad9544-a56f-4140-b8f6-7f13ba48e4fe",
   "metadata": {},
   "source": [
    "# Lab 5: Fitting Minor Losses in Pipe Systems\n",
    "\n",
    "In this lab, we will study the concept of **minor losses** in pipe systems, which occur at fittings, valves, bends, and other pipe accessories. These losses are due to disruptions in the flow, such as changes in direction or velocity, and must be accounted for when designing pipe networks.\n",
    "\n",
    "## 5.1 Definition of Minor Losses\n",
    "\n",
    "Minor losses are losses that occur due to components like elbows, tees, valves, and other fittings, which cause a local disturbance in the flow and create additional frictional resistance. These losses can be calculated using the following general equation:\n",
    "\n",
    "$h_m = K \\frac{v^2}{2g}$\n",
    "\n",
    "where:\n",
    "- $h_m$ is the minor head loss (m),\n",
    "- $K$ is the **loss coefficient** (dimensionless), which depends on the type of fitting,\n",
    "- $v$ is the velocity of the fluid (m/s),\n",
    "- $g$ is the acceleration due to gravity (9.81 m/s²).\n",
    "\n",
    "The value of $K$ varies for different fittings and is determined experimentally or from charts for commonly used components.\n",
    "\n",
    "## 5.2 Loss Coefficients for Various Fittings\n",
    "\n",
    "Some typical values of $K$ for common pipe fittings are:\n",
    "\n",
    "- **Elbows**: $K = 0.9$ to $1.5$ (depending on the angle of the bend),\n",
    "- **Tees**: $K = 0.4$ to $1.0$ (depending on whether the tee is in-line or perpendicular),\n",
    "- **Valves**: $K = 1.5$ to $3.5$ (depending on the valve type).\n",
    "\n",
    "These values are empirical and are usually obtained from experimental data or manufacturer's charts.\n",
    "\n",
    "## 5.3 Total Minor Losses in a System\n",
    "\n",
    "To determine the total minor losses in a system, we sum the minor losses at all fittings and components:\n",
    "\n",
    "$h_{m,\\text{total}} = \\sum K_i \\frac{v^2}{2g}$\n",
    "\n",
    "where:\n",
    "- $h_{m,\\text{total}}$ is the total minor head loss (m),\n",
    "- $K_i$ is the loss coefficient for each fitting,\n",
    "- $v$ is the velocity of the fluid in the pipe at each fitting,\n",
    "- $g$ is the acceleration due to gravity (9.81 m/s²).\n",
    "\n",
    "It is important to recognize that minor losses should be added to the major losses (from the pipe's frictional resistance) to get the total head loss in the system.\n",
    "\n",
    "## 5.4 Example Calculation\n",
    "\n",
    "Consider a pipe system with a velocity of 2 m/s flowing through two 90° elbows. Using typical values for $K$:\n",
    "\n",
    "$K_{\\text{elbow}} = 1.0$\n",
    "\n",
    "The minor head loss for each elbow is:\n",
    "\n",
    "$h_m = 1.0 \\cdot \\frac{(2)^2}{2 \\cdot 9.81} = 0.204 \\text{ m}$\n",
    "\n",
    "Thus, the total minor loss for the two elbows is:\n",
    "\n",
    "$h_{m,\\text{total}} = 2 \\cdot 0.204 = 0.408 \\text{ m}$\n",
    "\n",
    "For more detailed calculation, follow the model developed for series of collected data and stored [here](lab5_expts_solution.html)"
   ]
  },
  {
   "cell_type": "code",
   "execution_count": null,
   "id": "996d914b-1afb-4875-a184-9604c3296e02",
   "metadata": {},
   "outputs": [],
   "source": []
  }
 ],
 "metadata": {
  "kernelspec": {
   "display_name": "Python 3 (ipykernel)",
   "language": "python",
   "name": "python3"
  },
  "language_info": {
   "codemirror_mode": {
    "name": "ipython",
    "version": 3
   },
   "file_extension": ".py",
   "mimetype": "text/x-python",
   "name": "python",
   "nbconvert_exporter": "python",
   "pygments_lexer": "ipython3",
   "version": "3.13.0"
  },
  "widgets": {
   "application/vnd.jupyter.widget-state+json": {
    "state": {},
    "version_major": 2,
    "version_minor": 0
   }
  }
 },
 "nbformat": 4,
 "nbformat_minor": 5
}
