{
 "cells": [
  {
   "cell_type": "markdown",
   "id": "418e6039-aad7-431d-b17a-1c01b0694fbb",
   "metadata": {},
   "source": [
    "# Lab 4: Pipe Friction\n",
    "\n",
    "In this lab, we will analyze the friction losses in pipes due to fluid flow.\n",
    "\n",
    "## 4.1 Darcy-Weisbach Equation\n",
    "\n",
    "The **Darcy-Weisbach equation** calculates the head loss due to friction in pipes:\n",
    "\n",
    "$$\n",
    "h_f = f \\frac{L}{D} \\frac{v^2}{2g}\n",
    "$$\n",
    "\n",
    "where:\n",
    "- $h_f$ is the head loss (m),\n",
    "- $f$ is the Darcy friction factor (dimensionless),\n",
    "- $L$ is the length of the pipe (m),\n",
    "- $D$ is the diameter of the pipe (m),\n",
    "- $v$ is the flow velocity (m/s),\n",
    "- $g$ is the acceleration due to gravity (9.81 m/s²).\n",
    "\n",
    "## 4.2 Moody Chart\n",
    "\n",
    "The **Moody chart** is used to determine the friction factor $f$ for turbulent flow. It is a function of the Reynolds number $Re$ and the relative roughness $\\epsilon / D$.\n",
    "\n",
    "The Reynolds number is given by:\n",
    "\n",
    "$$\n",
    "Re = \\frac{\\rho v D}{\\mu}\n",
    "$$\n",
    "\n",
    "where:\n",
    "- $\\rho$ is the fluid density (kg/m³),\n",
    "- $v$ is the flow velocity (m/s),\n",
    "- $D$ is the diameter of the pipe (m),\n",
    "- $\\mu$ is the dynamic viscosity (Pa·s).\n",
    "\n",
    "For laminar flow, $f$ is given by:\n",
    "\n",
    "$$\n",
    "f = \\frac{64}{Re}\n",
    "$$\n",
    "\n",
    "For turbulent flow, $f$ is calculated using the Moody chart or the Colebrook equation.\n",
    "\n",
    "## 4.3 Friction Loss in Pipe Networks\n",
    "\n",
    "In a network of pipes, the total frictional head loss is the sum of the head losses in each segment. The total loss is:\n",
    "\n",
    "$$\n",
    "H_{\\text{total}} = \\sum h_{f_i}\n",
    "$$\n",
    "\n",
    "where:\n",
    "- $H_{\\text{total}}$ is the total head loss (m),\n",
    "- $h_{f_i}$ is the head loss in each segment (m).\n",
    "\n",
    "**An built in example is available on [here](lab4_expts_solution.html) You can follow the same computational steps with collected data.**\n"
   ]
  },
  {
   "cell_type": "code",
   "execution_count": null,
   "id": "5e4735e1-c7e1-4d94-8226-2f72cfc976d2",
   "metadata": {},
   "outputs": [],
   "source": []
  }
 ],
 "metadata": {
  "kernelspec": {
   "display_name": "Python 3 (ipykernel)",
   "language": "python",
   "name": "python3"
  },
  "language_info": {
   "codemirror_mode": {
    "name": "ipython",
    "version": 3
   },
   "file_extension": ".py",
   "mimetype": "text/x-python",
   "name": "python",
   "nbconvert_exporter": "python",
   "pygments_lexer": "ipython3",
   "version": "3.13.0"
  },
  "widgets": {
   "application/vnd.jupyter.widget-state+json": {
    "state": {},
    "version_major": 2,
    "version_minor": 0
   }
  }
 },
 "nbformat": 4,
 "nbformat_minor": 5
}
