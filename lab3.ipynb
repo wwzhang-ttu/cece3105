{
 "cells": [
  {
   "cell_type": "markdown",
   "id": "c80ea755-ffa5-4a08-9d07-ca0c61fd4e86",
   "metadata": {},
   "source": [
    "# Lab 3: Flow Measurements\n",
    "\n",
    "In this lab, we will explore methods for measuring flow in open channels and pipes.\n",
    "\n",
    "## 3.1 Flow Rate in Open Channels\n",
    "\n",
    "The flow rate $Q$ in an open channel can be measured using the **Manning equation**:\n",
    "\n",
    "$$\n",
    "Q = \\frac{1}{n} A R^{2/3} S^{1/2}\n",
    "$$\n",
    "\n",
    "where:\n",
    "- $Q$ is the flow rate (m³/s),\n",
    "- $n$ is the Manning’s roughness coefficient (dimensionless),\n",
    "- $A$ is the cross-sectional area of flow (m²),\n",
    "- $R$ is the hydraulic radius ($R = \\frac{A}{P}$),\n",
    "- $S$ is the slope of the channel (dimensionless).\n",
    "\n",
    "## 3.2 Flow in Pipes\n",
    "\n",
    "For flow in pipes, the **Darcy-Weisbach equation** is commonly used:\n",
    "$$\n",
    "\\Delta P = f \\frac{L}{D} \\frac{\\rho v^2}{2}\n",
    "$$\n",
    "\n",
    "where:\n",
    "- $\\Delta P$ is the pressure drop (Pa),\n",
    "- $f$ is the Darcy friction factor (dimensionless),\n",
    "- $L$ is the length of the pipe (m),\n",
    "- $D$ is the diameter of the pipe (m),\n",
    "- $\\rho$ is the fluid density (kg/m³),\n",
    "- $v$ is the velocity of the fluid (m/s).\n",
    "\n",
    "## 3.3 Velocity Profile\n",
    "\n",
    "The velocity profile in a pipe is usually described as parabolic for laminar flow and more complex for turbulent flow. For laminar flow, the velocity distribution is:\n",
    "\n",
    "$$\n",
    "v(r) = \\frac{\\Delta P}{4 \\mu L} (R^2 - r^2)\n",
    "$$\n",
    "\n",
    "where:\n",
    "- $r$ is the radial distance from the center of the pipe,\n",
    "- $R$ is the radius of the pipe,\n",
    "- $\\mu$ is the dynamic viscosity.\n"
   ]
  },
  {
   "cell_type": "code",
   "execution_count": null,
   "id": "ea4ad5a6-e513-41b4-9b45-d54a041e565e",
   "metadata": {},
   "outputs": [],
   "source": []
  }
 ],
 "metadata": {
  "kernelspec": {
   "display_name": "Python 3 (ipykernel)",
   "language": "python",
   "name": "python3"
  },
  "language_info": {
   "codemirror_mode": {
    "name": "ipython",
    "version": 3
   },
   "file_extension": ".py",
   "mimetype": "text/x-python",
   "name": "python",
   "nbconvert_exporter": "python",
   "pygments_lexer": "ipython3",
   "version": "3.13.0"
  },
  "widgets": {
   "application/vnd.jupyter.widget-state+json": {
    "state": {},
    "version_major": 2,
    "version_minor": 0
   }
  }
 },
 "nbformat": 4,
 "nbformat_minor": 5
}
